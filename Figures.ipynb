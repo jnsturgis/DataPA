{
 "cells": [
  {
   "cell_type": "markdown",
   "id": "58a6dac7",
   "metadata": {
    "editable": true,
    "slideshow": {
     "slide_type": ""
    },
    "tags": []
   },
   "source": [
    "# Data Presentation and Analysis\n",
    "\n",
    "Pascal's advice:\n",
    "1. Demonstration example to decrypt showing how to do a simple version.\n",
    "2. Ask online there are lots of answers tuto's, stack exchange, GPT...\n",
    "3. Projects to achieve of variable difficulty and depth (worth different ammounts) all different no 2 students the same.\n",
    "   \n",
    "The course is organized around a series of notebooks, which contain information to read or review, code sections to edit and questions to answer.\n",
    "When you run the notebook it will produce various pieces of output, producing figures and images, checking your answers to questions etc.\n",
    "\n",
    "The last notebook in each section is an exercise that you will submit for evaluation, so running the full notebook will not perform all the necessary checks... you are of course welcome to add code to make any checks and tests you feel are usefull.\n",
    "\n",
    "I would welcome your feedback on elements that you find good and bad in the material for this course.\n",
    "\n",
    "## Making quality graphs and figures\n",
    "\n",
    "In this course you will:\n",
    "1. Examine what makes a good, bad or great figure or graph.\n",
    "2. Learn how to manipulate data from tables and files to re-organize it for analysis and presentation\n",
    "3. Practice producing different types of graphs and with quantitative elements.\n",
    "4. Learn how to integrate multiple elements into figures\n",
    "5. Complete an exercise to produce a publication quality multi-element figure from the relevant datasets.\n"
   ]
  },
  {
   "cell_type": "code",
   "execution_count": null,
   "id": "4b393c7d-c7fd-4e5f-8d18-2e46ea443ab8",
   "metadata": {
    "editable": true,
    "slideshow": {
     "slide_type": ""
    },
    "tags": []
   },
   "outputs": [],
   "source": [
    "### A hidden code block that should be run setting up \n",
    "ANS = [0,\n",
    "       -1095050269882061023,\n",
    "       1255694554407185891, \n",
    "       -1431400642713969933, \n",
    "       -1038492222585023064\n",
    "      ]\n",
    "Q   = [1,0,0,0,0]\n",
    "\n",
    "def check_answers():\n",
    "    val = True\n",
    "    for i in range(1,len(Q)-1):\n",
    "        if Q[i] and hash(str(i)+'.'+str(Q[i])) != ANS[i]:\n",
    "            print(f\"Your answer to question {i} is incorrect\")\n",
    "            val = False\n",
    "    return val\n",
    "\n",
    "def check_all():\n",
    "    for i in range(1,len(Q)-1):\n",
    "        if hash(str(i)+'.'+str(Q[i])) != ANS[i]:\n",
    "            return False\n",
    "    return True\n"
   ]
  },
  {
   "cell_type": "code",
   "execution_count": null,
   "id": "8ba4cc33-71af-46cb-b213-14f1a1a07409",
   "metadata": {
    "editable": true,
    "slideshow": {
     "slide_type": ""
    },
    "tags": []
   },
   "outputs": [],
   "source": [
    "### Code cells where you need to make changes will look like this.\n",
    "### Some python code that is already written that does not need modification... There might be questions \n",
    "### on this so you should read it and try to understand it.\n",
    "\n",
    "assert Q[0]\n",
    "\n",
    "rawdata = [5, 7, 13, 2, 4] # Some numbers in a list.\n",
    "\n",
    "### Can you return the squares of the values in the rawdata list?\n",
    "def squares( somedata:list ) -> list:\n",
    "    ### Replace this line with your code\n",
    "    result = []\n",
    "    for val in somedata:\n",
    "        result.append(val*val)\n",
    "    return result\n",
    "    # raise NotImplementedError\n"
   ]
  },
  {
   "cell_type": "code",
   "execution_count": null,
   "id": "f57c4c6c-a6b8-489a-8cc0-021f79714e6c",
   "metadata": {
    "editable": true,
    "slideshow": {
     "slide_type": ""
    },
    "tags": []
   },
   "outputs": [],
   "source": [
    "# If there is no error in this cell things are looking good\n",
    "assert squares([1,2]) == [1,4]\n",
    "assert squares(rawdata) == [25, 49, 169, 4, 16]"
   ]
  },
  {
   "cell_type": "markdown",
   "id": "fb86e9f6-6f92-4b2b-bd40-f79bca61aee0",
   "metadata": {
    "editable": true,
    "slideshow": {
     "slide_type": ""
    },
    "tags": []
   },
   "source": [
    "Here are a series of multiple choice questions that you can try to answer.\n",
    "Q1 A question\n",
    "  1. answer 1\n",
    "  2. answer 2\n",
    "  3. answer 3\n",
    "\n",
    "Q2 Another one\n",
    "  1. answer 1\n",
    "  2. answer 2\n",
    "  3. answer 3\n"
   ]
  },
  {
   "cell_type": "code",
   "execution_count": null,
   "id": "1e8f1828-b800-4fef-98a3-833179f1db51",
   "metadata": {
    "editable": true,
    "slideshow": {
     "slide_type": ""
    },
    "tags": []
   },
   "outputs": [],
   "source": [
    "### Enter your answers here\n",
    "Q[1]=2\n",
    "Q[2]=3\n",
    "### and check if you have them right\n",
    "assert check_answers()"
   ]
  },
  {
   "cell_type": "code",
   "execution_count": null,
   "id": "69ee2811-db59-4b5f-8f0e-31ac19c63c2a",
   "metadata": {},
   "outputs": [],
   "source": [
    "%activity"
   ]
  }
 ],
 "metadata": {
  "kernelspec": {
   "display_name": "Python 3 (ipykernel)",
   "language": "python",
   "name": "python3"
  },
  "language_info": {
   "codemirror_mode": {
    "name": "ipython",
    "version": 3
   },
   "file_extension": ".py",
   "mimetype": "text/x-python",
   "name": "python",
   "nbconvert_exporter": "python",
   "pygments_lexer": "ipython3",
   "version": "3.10.12"
  }
 },
 "nbformat": 4,
 "nbformat_minor": 5
}
