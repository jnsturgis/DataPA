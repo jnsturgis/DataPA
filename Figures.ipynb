{
 "cells": [
  {
   "cell_type": "markdown",
   "id": "58a6dac7",
   "metadata": {},
   "source": [
    "# Data Presentation and Analysis\n",
    "\n",
    "## Making quality graphs and figures\n",
    "\n",
    "In this notebook you will:\n",
    "1. Examine what makes a good, bad or great figure or graph.\n",
    "2. Learn how to manipulate data from tables and files to re-organize it for analysis and presentation\n",
    "3. Practice producing different types of graphs and with quantitative elements.\n",
    "4. Learn how to integrate multiple elements into figures\n",
    "5. Complete an exercise to produce a publication quality multi-element figure from the relevant datasets.\n",
    "\n",
    "Throughout these exercises we will use the programming language Python and in particular the graphical library that is able to produce excellent publication quality scientific figures \"matplotlib\"."
   ]
  }
 ],
 "metadata": {
  "kernelspec": {
   "display_name": "Python 3 (ipykernel)",
   "language": "python",
   "name": "python3"
  },
  "language_info": {
   "codemirror_mode": {
    "name": "ipython",
    "version": 3
   },
   "file_extension": ".py",
   "mimetype": "text/x-python",
   "name": "python",
   "nbconvert_exporter": "python",
   "pygments_lexer": "ipython3",
   "version": "3.10.12"
  }
 },
 "nbformat": 4,
 "nbformat_minor": 5
}
