{
 "cells": [
  {
   "cell_type": "markdown",
   "id": "58a6dac7",
   "metadata": {
    "slideshow": {
     "slide_type": ""
    },
    "tags": []
   },
   "source": [
    "# Data Presentation and Analysis\n",
    "\n",
    "## Making quality graphs and figures\n",
    "\n",
    "In this course you will:\n",
    "1. Examine what makes a good, bad or great figure or graph.\n",
    "2. Learn how to manipulate data from tables and files to re-organize it for analysis and presentation\n",
    "3. Practice producing different types of graphs and with quantitative elements.\n",
    "4. Learn how to integrate multiple elements into figures\n",
    "5. Complete an exercise to produce a publication quality multi-element figure from the relevant datasets.\n",
    "\n",
    "Throughout these exercises we will use the programming language Python and in particular the graphical library that is able to produce excellent publication quality scientific figures \"matplotlib\".\n",
    "\n",
    "The course is organized around a series of notebooks, which you will read, then edit the programmes and reply to questions and run until you are happy with the result.\n",
    "If you are reading this then you have already overcome the first hurdle, and are able to find a notebook with an exercise in it and look at it.\n",
    "The next step is to learn how to reply to the questions in the notebook."
   ]
  },
  {
   "cell_type": "code",
   "execution_count": 1,
   "id": "4b393c7d-c7fd-4e5f-8d18-2e46ea443ab8",
   "metadata": {
    "slideshow": {
     "slide_type": ""
    },
    "tags": []
   },
   "outputs": [],
   "source": [
    "### A hidden code block that should be run setting up \n",
    "ANS = [0,2,1,3,2]\n",
    "Q   = [1,0,0,0,0]\n",
    "def check_answers():\n",
    "    val = True\n",
    "    for i in range(1,len(Q)-1):\n",
    "        if Q[i] and Q[i] != ANS[i]:\n",
    "            print(f\"Your answer to question {i} is incorrect\")\n",
    "            val = False\n",
    "    return val"
   ]
  },
  {
   "cell_type": "code",
   "execution_count": 2,
   "id": "8ba4cc33-71af-46cb-b213-14f1a1a07409",
   "metadata": {
    "editable": true,
    "slideshow": {
     "slide_type": ""
    },
    "tags": []
   },
   "outputs": [],
   "source": [
    "### Code cells where you need to make changes will look like this.\n",
    "### Some python code that is already written that does not need modification... There might be questions \n",
    "### on this so you should read it and try to understand it.\n",
    "\n",
    "assert Q[0]\n",
    "\n",
    "rawdata = [5, 7, 13, 2, 4] # Some numbers in a list.\n",
    "\n",
    "### Can you return the squares of the values in the rawdata list?\n",
    "def squares( somedata:list ) -> list:\n",
    "    ### Replace this line with your code\n",
    "    result = []\n",
    "    for val in somedata:\n",
    "        result.append(val*val)\n",
    "    return result\n",
    "    # raise NotImplementedError\n"
   ]
  },
  {
   "cell_type": "code",
   "execution_count": 3,
   "id": "f57c4c6c-a6b8-489a-8cc0-021f79714e6c",
   "metadata": {
    "editable": true,
    "slideshow": {
     "slide_type": ""
    },
    "tags": []
   },
   "outputs": [],
   "source": [
    "# If there is no error in this cell things are looking good\n",
    "assert squares([1,2]) == [1,4]\n",
    "assert squares(rawdata) == [25, 49, 169, 4, 16]"
   ]
  },
  {
   "cell_type": "markdown",
   "id": "fb86e9f6-6f92-4b2b-bd40-f79bca61aee0",
   "metadata": {
    "editable": true,
    "slideshow": {
     "slide_type": ""
    },
    "tags": []
   },
   "source": [
    "Here are a series of multiple choice questions that you can try to answer.\n",
    "Q1 A question\n",
    "  1. answer 1\n",
    "  2. answer 2\n",
    "  3. answer 3\n",
    "\n",
    "Q2 Another one\n",
    "  1. answer 1\n",
    "  2. answer 2\n",
    "  3. answer 3\n"
   ]
  },
  {
   "cell_type": "code",
   "execution_count": 4,
   "id": "1e8f1828-b800-4fef-98a3-833179f1db51",
   "metadata": {
    "editable": true,
    "slideshow": {
     "slide_type": ""
    },
    "tags": []
   },
   "outputs": [],
   "source": [
    "### Enter your answers here\n",
    "Q[1]=2\n",
    "Q[2]=1\n",
    "assert check_answers()"
   ]
  }
 ],
 "metadata": {
  "kernelspec": {
   "display_name": "Python 3 (ipykernel)",
   "language": "python",
   "name": "python3"
  },
  "language_info": {
   "codemirror_mode": {
    "name": "ipython",
    "version": 3
   },
   "file_extension": ".py",
   "mimetype": "text/x-python",
   "name": "python",
   "nbconvert_exporter": "python",
   "pygments_lexer": "ipython3",
   "version": "3.10.12"
  }
 },
 "nbformat": 4,
 "nbformat_minor": 5
}
